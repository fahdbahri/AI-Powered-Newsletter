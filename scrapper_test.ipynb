{
 "cells": [
  {
   "cell_type": "code",
   "execution_count": 2,
   "id": "e09a0ef5-366e-4391-8be2-e9ec9bb84c3a",
   "metadata": {},
   "outputs": [],
   "source": [
    "import praw\n",
    "import os\n",
    "from dotenv import load_dotenv"
   ]
  },
  {
   "cell_type": "code",
   "execution_count": 3,
   "id": "36430cda-2a8f-40d1-8fe4-edd94709ca8c",
   "metadata": {},
   "outputs": [],
   "source": [
    "load_dotenv()\n",
    "\n",
    "client_id = os.getenv(\"CLIENT_ID\")\n",
    "client_secret = os.getenv(\"CLIENT_SERCRET\")\n",
    "client_agent = os.getenv(\"CLIENT_USER\")\n",
    "\n",
    "reddit = praw.Reddit(\n",
    "    client_id=client_id,\n",
    "    client_secret=client_secret,\n",
    "    user_agent=client_agent,\n",
    ")\n"
   ]
  },
  {
   "cell_type": "code",
   "execution_count": 4,
   "id": "78f2bd8f-8ea6-4695-97e7-a61dd9765c09",
   "metadata": {},
   "outputs": [],
   "source": [
    "# Create sub-reddit instance\n",
    "subreddit_name = \"deeplearning\"\n",
    "subreddit = reddit.subreddit(subreddit_name)"
   ]
  },
  {
   "cell_type": "code",
   "execution_count": 5,
   "id": "ceb31abd-19f4-4485-956b-af118178187f",
   "metadata": {},
   "outputs": [
    {
     "name": "stdout",
     "output_type": "stream",
     "text": [
      "deeplearning\n"
     ]
    }
   ],
   "source": [
    "print(subreddit.display_name)"
   ]
  },
  {
   "cell_type": "code",
   "execution_count": 6,
   "id": "eaf42a0c-f432-4713-bdef-0812034181fa",
   "metadata": {},
   "outputs": [],
   "source": [
    "import pandas as pd\n",
    "\n",
    "df = pd.DataFrame()"
   ]
  },
  {
   "cell_type": "code",
   "execution_count": 16,
   "id": "57edb8b7-1596-40f0-b430-09fb7ecabcb1",
   "metadata": {},
   "outputs": [],
   "source": [
    "titles = []\n",
    "scores = []\n",
    "ids = []\n",
    "input_url = []\n",
    "body = []\n",
    "\n",
    "for submission in subreddit.new(limit=5):\n",
    "    titles.append(submission.title)\n",
    "    scores.append(submission.score)\n",
    "    ids.append(submission.id)\n",
    "    body.append(submission.selftext)\n"
   ]
  },
  {
   "cell_type": "code",
   "execution_count": 20,
   "id": "a2e5d240-3fc4-45f0-9dee-3c4934365d1e",
   "metadata": {},
   "outputs": [
    {
     "name": "stdout",
     "output_type": "stream",
     "text": [
      "(5, 4)\n"
     ]
    },
    {
     "data": {
      "text/html": [
       "<div>\n",
       "<style scoped>\n",
       "    .dataframe tbody tr th:only-of-type {\n",
       "        vertical-align: middle;\n",
       "    }\n",
       "\n",
       "    .dataframe tbody tr th {\n",
       "        vertical-align: top;\n",
       "    }\n",
       "\n",
       "    .dataframe thead th {\n",
       "        text-align: right;\n",
       "    }\n",
       "</style>\n",
       "<table border=\"1\" class=\"dataframe\">\n",
       "  <thead>\n",
       "    <tr style=\"text-align: right;\">\n",
       "      <th></th>\n",
       "      <th>Title</th>\n",
       "      <th>Id</th>\n",
       "      <th>Upvote</th>\n",
       "      <th>body</th>\n",
       "    </tr>\n",
       "  </thead>\n",
       "  <tbody>\n",
       "    <tr>\n",
       "      <th>0</th>\n",
       "      <td>Realtime Low-Light Raw Video Denoiser for Mobi...</td>\n",
       "      <td>1hrqp9z</td>\n",
       "      <td>1</td>\n",
       "      <td>I'm working on a personal project called **\"Re...</td>\n",
       "    </tr>\n",
       "    <tr>\n",
       "      <th>1</th>\n",
       "      <td>Do we need to know how to proof of ML/AI?</td>\n",
       "      <td>1hrjdoq</td>\n",
       "      <td>0</td>\n",
       "      <td></td>\n",
       "    </tr>\n",
       "    <tr>\n",
       "      <th>2</th>\n",
       "      <td>Has anyone earlier tried successfully running ...</td>\n",
       "      <td>1hrcr3h</td>\n",
       "      <td>1</td>\n",
       "      <td>I am trying to figure out how can I run tiny M...</td>\n",
       "    </tr>\n",
       "    <tr>\n",
       "      <th>3</th>\n",
       "      <td>Demystifying CPUs and GPUs: What You Need to Know</td>\n",
       "      <td>1hr53fk</td>\n",
       "      <td>0</td>\n",
       "      <td>i've written the blog: Demystifying CPUs and G...</td>\n",
       "    </tr>\n",
       "    <tr>\n",
       "      <th>4</th>\n",
       "      <td>how is Deep Learning Fundamentals course by Se...</td>\n",
       "      <td>1hr4m94</td>\n",
       "      <td>2</td>\n",
       "      <td>I have basic knowledge of ML. can anyone tell ...</td>\n",
       "    </tr>\n",
       "  </tbody>\n",
       "</table>\n",
       "</div>"
      ],
      "text/plain": [
       "                                               Title       Id  Upvote  \\\n",
       "0  Realtime Low-Light Raw Video Denoiser for Mobi...  1hrqp9z       1   \n",
       "1          Do we need to know how to proof of ML/AI?  1hrjdoq       0   \n",
       "2  Has anyone earlier tried successfully running ...  1hrcr3h       1   \n",
       "3  Demystifying CPUs and GPUs: What You Need to Know  1hr53fk       0   \n",
       "4  how is Deep Learning Fundamentals course by Se...  1hr4m94       2   \n",
       "\n",
       "                                                body  \n",
       "0  I'm working on a personal project called **\"Re...  \n",
       "1                                                     \n",
       "2  I am trying to figure out how can I run tiny M...  \n",
       "3  i've written the blog: Demystifying CPUs and G...  \n",
       "4  I have basic knowledge of ML. can anyone tell ...  "
      ]
     },
     "execution_count": 20,
     "metadata": {},
     "output_type": "execute_result"
    }
   ],
   "source": [
    "df['Title'] = titles\n",
    "df['Id'] = ids\n",
    "df['Upvote'] = scores\n",
    "df['body'] = body\n",
    "\n",
    "\n",
    "print(df.shape)\n",
    "df.head(5)"
   ]
  },
  {
   "cell_type": "code",
   "execution_count": 15,
   "id": "61f3097a-bbc5-4988-b534-3c5ed1671c49",
   "metadata": {},
   "outputs": [
    {
     "name": "stdout",
     "output_type": "stream",
     "text": [
      " 1hrqp9z \n",
      " 1hrjdoq \n",
      " 1hrcr3h \n",
      " 1hr53fk \n",
      " 1hr4m94 \n"
     ]
    }
   ],
   "source": [
    "for input in input_url:\n",
    "    userid_from_url = input.split(\"/\")[6]\n",
    "    more_details = reddit.submission(id=userid_from_url)\n",
    "    print(more_details)"
   ]
  },
  {
   "cell_type": "code",
   "execution_count": null,
   "id": "7dd04540-872e-4eca-ac8b-bba52c464f12",
   "metadata": {},
   "outputs": [],
   "source": []
  }
 ],
 "metadata": {
  "kernelspec": {
   "display_name": "Python 3 (ipykernel)",
   "language": "python",
   "name": "python3"
  },
  "language_info": {
   "codemirror_mode": {
    "name": "ipython",
    "version": 3
   },
   "file_extension": ".py",
   "mimetype": "text/x-python",
   "name": "python",
   "nbconvert_exporter": "python",
   "pygments_lexer": "ipython3",
   "version": "3.12.3"
  }
 },
 "nbformat": 4,
 "nbformat_minor": 5
}
